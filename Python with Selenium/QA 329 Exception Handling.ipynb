{
 "cells": [
  {
   "cell_type": "markdown",
   "id": "e7b00f45-4a2c-47ad-922f-652eea4a2117",
   "metadata": {},
   "source": [
    "# **Python Exception Handling**"
   ]
  },
  {
   "cell_type": "code",
   "execution_count": 2,
   "id": "09980a5c-bea4-433f-bcee-eec827c8d8d1",
   "metadata": {},
   "outputs": [
    {
     "name": "stdin",
     "output_type": "stream",
     "text": [
      "Please enter the first integer value:  100\n",
      "Please enter the second integer value:  40\n"
     ]
    },
    {
     "name": "stdout",
     "output_type": "stream",
     "text": [
      "So 100 / 40 = 2.5...\n",
      "End of the program...\n"
     ]
    }
   ],
   "source": [
    "num1 = int(input(\"Please enter the first integer value: \"))\n",
    "num2 = int(input(\"Please enter the second integer value: \"))\n",
    "quotient = num1 / num2\n",
    "print(f\"So {num1} / {num2} = {quotient}...\")\n",
    "print(\"End of the program...\")"
   ]
  },
  {
   "cell_type": "code",
   "execution_count": 3,
   "id": "22d4efd0-220c-4090-a6b2-9ee491890c4c",
   "metadata": {},
   "outputs": [
    {
     "name": "stdin",
     "output_type": "stream",
     "text": [
      "Please enter the first integer value:  100\n",
      "Please enter the second integer value:  0\n"
     ]
    },
    {
     "ename": "ZeroDivisionError",
     "evalue": "division by zero",
     "output_type": "error",
     "traceback": [
      "\u001b[1;31m---------------------------------------------------------------------------\u001b[0m",
      "\u001b[1;31mZeroDivisionError\u001b[0m                         Traceback (most recent call last)",
      "Cell \u001b[1;32mIn[3], line 3\u001b[0m\n\u001b[0;32m      1\u001b[0m num1 \u001b[38;5;241m=\u001b[39m \u001b[38;5;28mint\u001b[39m(\u001b[38;5;28minput\u001b[39m(\u001b[38;5;124m\"\u001b[39m\u001b[38;5;124mPlease enter the first integer value: \u001b[39m\u001b[38;5;124m\"\u001b[39m))\n\u001b[0;32m      2\u001b[0m num2 \u001b[38;5;241m=\u001b[39m \u001b[38;5;28mint\u001b[39m(\u001b[38;5;28minput\u001b[39m(\u001b[38;5;124m\"\u001b[39m\u001b[38;5;124mPlease enter the second integer value: \u001b[39m\u001b[38;5;124m\"\u001b[39m))\n\u001b[1;32m----> 3\u001b[0m quotient \u001b[38;5;241m=\u001b[39m num1 \u001b[38;5;241m/\u001b[39m num2\n\u001b[0;32m      4\u001b[0m \u001b[38;5;28mprint\u001b[39m(\u001b[38;5;124mf\u001b[39m\u001b[38;5;124m\"\u001b[39m\u001b[38;5;124mSo \u001b[39m\u001b[38;5;132;01m{\u001b[39;00mnum1\u001b[38;5;132;01m}\u001b[39;00m\u001b[38;5;124m / \u001b[39m\u001b[38;5;132;01m{\u001b[39;00mnum2\u001b[38;5;132;01m}\u001b[39;00m\u001b[38;5;124m = \u001b[39m\u001b[38;5;132;01m{\u001b[39;00mquotient\u001b[38;5;132;01m}\u001b[39;00m\u001b[38;5;124m...\u001b[39m\u001b[38;5;124m\"\u001b[39m)\n\u001b[0;32m      5\u001b[0m \u001b[38;5;28mprint\u001b[39m(\u001b[38;5;124m\"\u001b[39m\u001b[38;5;124mEnd of the program...\u001b[39m\u001b[38;5;124m\"\u001b[39m)\n",
      "\u001b[1;31mZeroDivisionError\u001b[0m: division by zero"
     ]
    }
   ],
   "source": [
    "num1 = int(input(\"Please enter the first integer value: \"))\n",
    "num2 = int(input(\"Please enter the second integer value: \"))\n",
    "quotient = num1 / num2\n",
    "print(f\"So {num1} / {num2} = {quotient}...\")\n",
    "print(\"End of the program...\")"
   ]
  },
  {
   "cell_type": "code",
   "execution_count": 9,
   "id": "5d61c5f8-e3e0-48a6-a6ee-25b0607f0109",
   "metadata": {},
   "outputs": [
    {
     "name": "stdin",
     "output_type": "stream",
     "text": [
      "Please enter the first integer value:  100\n",
      "Please enter the second integer value:  0\n"
     ]
    },
    {
     "name": "stdout",
     "output_type": "stream",
     "text": [
      "ZeroDivisionError: Division by ZERO is Illegal !!!\n",
      "ZeroDivisionError: Error type <class 'ZeroDivisionError'>\n",
      "ZeroDivisionError: Error message division by zero\n",
      "End of the program...\n"
     ]
    }
   ],
   "source": [
    "try:\n",
    "    num1 = int(input(\"Please enter the first integer value: \"))\n",
    "    num2 = int(input(\"Please enter the second integer value: \"))\n",
    "    quotient = num1 / num2\n",
    "    print(f\"So {num1} / {num2} = {quotient}...\")\n",
    "except ZeroDivisionError as zde:\n",
    "    print(\"ZeroDivisionError: Division by ZERO is Illegal !!!\")\n",
    "    print(\"ZeroDivisionError: Error type\", type(zde))\n",
    "    print(\"ZeroDivisionError: Error message\", zde)\n",
    "print(\"End of the program...\")"
   ]
  },
  {
   "cell_type": "code",
   "execution_count": 10,
   "id": "491ee0b0-41b3-4e28-90fa-994554d3f84a",
   "metadata": {},
   "outputs": [
    {
     "name": "stdin",
     "output_type": "stream",
     "text": [
      "Please enter the first integer value:  100\n",
      "Please enter the second integer value:  two\n"
     ]
    },
    {
     "ename": "ValueError",
     "evalue": "invalid literal for int() with base 10: 'two'",
     "output_type": "error",
     "traceback": [
      "\u001b[1;31m---------------------------------------------------------------------------\u001b[0m",
      "\u001b[1;31mValueError\u001b[0m                                Traceback (most recent call last)",
      "Cell \u001b[1;32mIn[10], line 3\u001b[0m\n\u001b[0;32m      1\u001b[0m \u001b[38;5;28;01mtry\u001b[39;00m:\n\u001b[0;32m      2\u001b[0m     num1 \u001b[38;5;241m=\u001b[39m \u001b[38;5;28mint\u001b[39m(\u001b[38;5;28minput\u001b[39m(\u001b[38;5;124m\"\u001b[39m\u001b[38;5;124mPlease enter the first integer value: \u001b[39m\u001b[38;5;124m\"\u001b[39m))\n\u001b[1;32m----> 3\u001b[0m     num2 \u001b[38;5;241m=\u001b[39m \u001b[38;5;28mint\u001b[39m(\u001b[38;5;28minput\u001b[39m(\u001b[38;5;124m\"\u001b[39m\u001b[38;5;124mPlease enter the second integer value: \u001b[39m\u001b[38;5;124m\"\u001b[39m))\n\u001b[0;32m      4\u001b[0m     quotient \u001b[38;5;241m=\u001b[39m num1 \u001b[38;5;241m/\u001b[39m num2\n\u001b[0;32m      5\u001b[0m     \u001b[38;5;28mprint\u001b[39m(\u001b[38;5;124mf\u001b[39m\u001b[38;5;124m\"\u001b[39m\u001b[38;5;124mSo \u001b[39m\u001b[38;5;132;01m{\u001b[39;00mnum1\u001b[38;5;132;01m}\u001b[39;00m\u001b[38;5;124m / \u001b[39m\u001b[38;5;132;01m{\u001b[39;00mnum2\u001b[38;5;132;01m}\u001b[39;00m\u001b[38;5;124m = \u001b[39m\u001b[38;5;132;01m{\u001b[39;00mquotient\u001b[38;5;132;01m}\u001b[39;00m\u001b[38;5;124m...\u001b[39m\u001b[38;5;124m\"\u001b[39m)\n",
      "\u001b[1;31mValueError\u001b[0m: invalid literal for int() with base 10: 'two'"
     ]
    }
   ],
   "source": [
    "try:\n",
    "    num1 = int(input(\"Please enter the first integer value: \"))\n",
    "    num2 = int(input(\"Please enter the second integer value: \"))\n",
    "    quotient = num1 / num2\n",
    "    print(f\"So {num1} / {num2} = {quotient}...\")\n",
    "except ZeroDivisionError as zde:\n",
    "    print(\"ZeroDivisionError: Division by ZERO is Illegal !!!\")\n",
    "    print(\"ZeroDivisionError: Error type\", type(zde))\n",
    "    print(\"ZeroDivisionError: Error message\", zde)\n",
    "print(\"End of the program...\")"
   ]
  },
  {
   "cell_type": "code",
   "execution_count": 15,
   "id": "d247f276-65b1-466a-b7bb-27a657105902",
   "metadata": {},
   "outputs": [
    {
     "name": "stdin",
     "output_type": "stream",
     "text": [
      "Please enter the first integer value:  100\n",
      "Please enter the second integer value:  two\n"
     ]
    },
    {
     "name": "stdout",
     "output_type": "stream",
     "text": [
      "ValueError: Invalid INPUT has been provided !!!\n",
      "ValueError: Error type <class 'ValueError'>\n",
      "ValueError: Error message invalid literal for int() with base 10: 'two'\n",
      "End of the program...\n"
     ]
    }
   ],
   "source": [
    "try:\n",
    "    num1 = int(input(\"Please enter the first integer value: \"))\n",
    "    num2 = int(input(\"Please enter the second integer value: \"))\n",
    "    quotient = num1 / num2\n",
    "    print(f\"So {num1} / {num2} = {quotient}...\")\n",
    "except ValueError as ve:\n",
    "    print(\"ValueError: Invalid INPUT has been provided !!!\")\n",
    "    print(\"ValueError: Error type\", type(ve))\n",
    "    print(\"ValueError: Error message\", ve)\n",
    "except ZeroDivisionError as zde:\n",
    "    print(\"ZeroDivisionError: Division by ZERO is Illegal !!!\")\n",
    "    print(\"ZeroDivisionError: Error type\", type(zde))\n",
    "    print(\"ZeroDivisionError: Error message\", zde)\n",
    "print(\"End of the program...\")"
   ]
  },
  {
   "cell_type": "code",
   "execution_count": 17,
   "id": "ee8afc19-6468-4726-9e56-5626ebf60cbb",
   "metadata": {},
   "outputs": [
    {
     "name": "stdin",
     "output_type": "stream",
     "text": [
      "Please enter the first integer value:  100\n",
      "Please enter the second integer value:  two\n"
     ]
    },
    {
     "name": "stdout",
     "output_type": "stream",
     "text": [
      "ValueError: Invalid INPUT has been provided !!!\n",
      "ValueError: Error type <class 'ValueError'>\n",
      "ValueError: Error message invalid literal for int() with base 10: 'two'\n",
      "End of the program...\n"
     ]
    }
   ],
   "source": [
    "try:\n",
    "    num1 = int(input(\"Please enter the first integer value: \"))\n",
    "    num2 = int(input(\"Please enter the second integer value: \"))\n",
    "    quotient = num1 / num2\n",
    "    print(f\"So {num1} / {num2} = {quotient}...\")\n",
    "except ZeroDivisionError as zde:\n",
    "    print(\"ZeroDivisionError: Division by ZERO is Illegal !!!\")\n",
    "    print(\"ZeroDivisionError: Error type\", type(zde))\n",
    "    print(\"ZeroDivisionError: Error message\", zde)\n",
    "except ValueError as ve:\n",
    "    print(\"ValueError: Invalid INPUT has been provided !!!\")\n",
    "    print(\"ValueError: Error type\", type(ve))\n",
    "    print(\"ValueError: Error message\", ve)\n",
    "print(\"End of the program...\")"
   ]
  },
  {
   "cell_type": "code",
   "execution_count": 22,
   "id": "3f41a166-8384-4429-a45b-263689130280",
   "metadata": {},
   "outputs": [
    {
     "name": "stdin",
     "output_type": "stream",
     "text": [
      "Please enter the first integer value:  100\n",
      "Please enter the second integer value:  40\n"
     ]
    },
    {
     "name": "stdout",
     "output_type": "stream",
     "text": [
      "So 100 / 40 = 2.5...\n",
      "Else: Else block is executing...\n",
      "Else: Had a smooth execution...\n",
      "End of the program...\n"
     ]
    }
   ],
   "source": [
    "try:\n",
    "    num1 = int(input(\"Please enter the first integer value: \"))\n",
    "    num2 = int(input(\"Please enter the second integer value: \"))\n",
    "    quotient = num1 / num2\n",
    "    print(f\"So {num1} / {num2} = {quotient}...\")\n",
    "except ZeroDivisionError as zde:\n",
    "    print(\"ZeroDivisionError: Division by ZERO is Illegal !!!\")\n",
    "    print(\"ZeroDivisionError: Error type\", type(zde))\n",
    "    print(\"ZeroDivisionError: Error message\", zde)\n",
    "except ValueError as ve:\n",
    "    print(\"ValueError: Invalid INPUT has been provided !!!\")\n",
    "    print(\"ValueError: Error type\", type(ve))\n",
    "    print(\"ValueError: Error message\", ve)\n",
    "else:\n",
    "    print(\"Else: Else block is executing...\")\n",
    "    print(\"Else: Had a smooth execution...\")\n",
    "print(\"End of the program...\")"
   ]
  },
  {
   "cell_type": "code",
   "execution_count": 24,
   "id": "2ffcd2be-cd64-40d5-b4ba-b725d5dca189",
   "metadata": {},
   "outputs": [
    {
     "name": "stdin",
     "output_type": "stream",
     "text": [
      "Please enter the first integer value:  100\n",
      "Please enter the second integer value:  two\n"
     ]
    },
    {
     "name": "stdout",
     "output_type": "stream",
     "text": [
      "ValueError: Invalid INPUT has been provided !!!\n",
      "ValueError: Error type <class 'ValueError'>\n",
      "ValueError: Error message invalid literal for int() with base 10: 'two'\n",
      "Finally: Finally block is executing...\n",
      "Finally: Finally block executes always...\n",
      "End of the program...\n"
     ]
    }
   ],
   "source": [
    "try:\n",
    "    num1 = int(input(\"Please enter the first integer value: \"))\n",
    "    num2 = int(input(\"Please enter the second integer value: \"))\n",
    "    quotient = num1 / num2\n",
    "    print(f\"So {num1} / {num2} = {quotient}...\")\n",
    "except ZeroDivisionError as zde:\n",
    "    print(\"ZeroDivisionError: Division by ZERO is Illegal !!!\")\n",
    "    print(\"ZeroDivisionError: Error type\", type(zde))\n",
    "    print(\"ZeroDivisionError: Error message\", zde)\n",
    "except ValueError as ve:\n",
    "    print(\"ValueError: Invalid INPUT has been provided !!!\")\n",
    "    print(\"ValueError: Error type\", type(ve))\n",
    "    print(\"ValueError: Error message\", ve)\n",
    "else:\n",
    "    print(\"Else: Else block is executing...\")\n",
    "    print(\"Else: Had a smooth execution...\")\n",
    "finally:\n",
    "    print(\"Finally: Finally block is executing...\")\n",
    "    print(\"Finally: Finally block executes always...\")\n",
    "print(\"End of the program...\")"
   ]
  },
  {
   "cell_type": "code",
   "execution_count": 26,
   "id": "b8712cc0-3ae7-477a-ae30-c3cb4d2a613d",
   "metadata": {},
   "outputs": [
    {
     "name": "stdin",
     "output_type": "stream",
     "text": [
      "Please enter the first integer value:  100\n",
      "Please enter the second integer value:  0\n"
     ]
    },
    {
     "name": "stdout",
     "output_type": "stream",
     "text": [
      "Exception: Invalid User INPUT has been provided !!!\n",
      "Exception: Error type <class 'ZeroDivisionError'>\n",
      "Exception: Error message division by zero\n",
      "Finally: Finally block is executing...\n",
      "Finally: Finally block executes always...\n",
      "End of the program...\n"
     ]
    }
   ],
   "source": [
    "try:\n",
    "    num1 = int(input(\"Please enter the first integer value: \"))\n",
    "    num2 = int(input(\"Please enter the second integer value: \"))\n",
    "    quotient = num1 / num2\n",
    "    print(f\"So {num1} / {num2} = {quotient}...\")\n",
    "except ZeroDivisionError as zde:\n",
    "    print(\"ZeroDivisionError: Division by ZERO is Illegal !!!\")\n",
    "    print(\"ZeroDivisionError: Error type\", type(zde))\n",
    "    print(\"ZeroDivisionError: Error message\", zde)\n",
    "except ValueError as ve:\n",
    "    print(\"ValueError: Invalid INPUT has been provided !!!\")\n",
    "    print(\"ValueError: Error type\", type(ve))\n",
    "    print(\"ValueError: Error message\", ve)\n",
    "except Exception as ex:\n",
    "    print(\"Exception: Invalid User INPUT has been provided !!!\")\n",
    "    print(\"Exception: Error type\", type(ex))\n",
    "    print(\"Exception: Error message\", ex)\n",
    "else:\n",
    "    print(\"Else: Else block is executing...\")\n",
    "    print(\"Else: Had a smooth execution...\")\n",
    "finally:\n",
    "    print(\"Finally: Finally block is executing...\")\n",
    "    print(\"Finally: Finally block executes always...\")\n",
    "print(\"End of the program...\")"
   ]
  },
  {
   "cell_type": "code",
   "execution_count": 28,
   "id": "c96796c4-5990-4ba5-a06e-2e6cbbe9f485",
   "metadata": {},
   "outputs": [
    {
     "name": "stdin",
     "output_type": "stream",
     "text": [
      "Please enter the first integer value:  100\n",
      "Please enter the second integer value:  two\n"
     ]
    },
    {
     "name": "stdout",
     "output_type": "stream",
     "text": [
      "Exception: Invalid User INPUT has been provided !!!\n",
      "Exception: Error type <class 'ValueError'>\n",
      "Exception: Error message invalid literal for int() with base 10: 'two'\n",
      "Finally: Finally block is executing...\n",
      "Finally: Finally block executes always...\n",
      "End of the program...\n"
     ]
    }
   ],
   "source": [
    "try:\n",
    "    num1 = int(input(\"Please enter the first integer value: \"))\n",
    "    num2 = int(input(\"Please enter the second integer value: \"))\n",
    "    quotient = num1 / num2\n",
    "    print(f\"So {num1} / {num2} = {quotient}...\")\n",
    "except Exception as ex:\n",
    "    print(\"Exception: Invalid User INPUT has been provided !!!\")\n",
    "    print(\"Exception: Error type\", type(ex))\n",
    "    print(\"Exception: Error message\", ex)\n",
    "except ZeroDivisionError as zde:\n",
    "    print(\"ZeroDivisionError: Division by ZERO is Illegal !!!\")\n",
    "    print(\"ZeroDivisionError: Error type\", type(zde))\n",
    "    print(\"ZeroDivisionError: Error message\", zde)\n",
    "except ValueError as ve:\n",
    "    print(\"ValueError: Invalid INPUT has been provided !!!\")\n",
    "    print(\"ValueError: Error type\", type(ve))\n",
    "    print(\"ValueError: Error message\", ve)\n",
    "else:\n",
    "    print(\"Else: Else block is executing...\")\n",
    "    print(\"Else: Had a smooth execution...\")\n",
    "finally:\n",
    "    print(\"Finally: Finally block is executing...\")\n",
    "    print(\"Finally: Finally block executes always...\")\n",
    "print(\"End of the program...\")"
   ]
  },
  {
   "cell_type": "code",
   "execution_count": 29,
   "id": "63ef2a93-2b00-432e-b151-39dc9120f602",
   "metadata": {},
   "outputs": [
    {
     "name": "stdin",
     "output_type": "stream",
     "text": [
      "Please enter the first integer value:  100\n",
      "Please enter the second integer value:  20\n"
     ]
    },
    {
     "name": "stdout",
     "output_type": "stream",
     "text": [
      "So 100 / 20 = 5.0...\n",
      "Else: Else block is executing...\n",
      "Else: Had a smooth execution...\n",
      "Finally: Finally block is executing...\n",
      "Finally: Finally block executes always...\n",
      "End of the program...\n"
     ]
    }
   ],
   "source": [
    "try:\n",
    "    num1 = int(input(\"Please enter the first integer value: \"))\n",
    "    num2 = int(input(\"Please enter the second integer value: \"))\n",
    "    quotient = num1 / num2\n",
    "    print(f\"So {num1} / {num2} = {quotient}...\")\n",
    "except ZeroDivisionError as zde:\n",
    "    print(\"ZeroDivisionError: Division by ZERO is Illegal !!!\")\n",
    "    print(\"ZeroDivisionError: Error type\", type(zde))\n",
    "    print(\"ZeroDivisionError: Error message\", zde)\n",
    "except ValueError as ve:\n",
    "    print(\"ValueError: Invalid INPUT has been provided !!!\")\n",
    "    print(\"ValueError: Error type\", type(ve))\n",
    "    print(\"ValueError: Error message\", ve)\n",
    "except Exception as ex:\n",
    "    print(\"Exception: Invalid User INPUT has been provided !!!\")\n",
    "    print(\"Exception: Error type\", type(ex))\n",
    "    print(\"Exception: Error message\", ex)\n",
    "else:\n",
    "    print(\"Else: Else block is executing...\")\n",
    "    print(\"Else: Had a smooth execution...\")\n",
    "finally:\n",
    "    print(\"Finally: Finally block is executing...\")\n",
    "    print(\"Finally: Finally block executes always...\")\n",
    "print(\"End of the program...\")"
   ]
  },
  {
   "cell_type": "code",
   "execution_count": 31,
   "id": "88790268-c307-451a-8470-61dd8455970f",
   "metadata": {},
   "outputs": [
    {
     "name": "stdin",
     "output_type": "stream",
     "text": [
      "Please enter the first integer value between -100 to +100:  -900\n",
      "Please enter the second integer value between -100 to +100:  20\n"
     ]
    },
    {
     "name": "stdout",
     "output_type": "stream",
     "text": [
      "NameError: Input number is out of range...\n",
      "NameError: Input number is lesser than -100...\n",
      "Finally: Finally block is executing...\n",
      "Finally: Finally block executes always...\n",
      "End of the program...\n"
     ]
    }
   ],
   "source": [
    "try:\n",
    "    num1 = int(input(\"Please enter the first integer value between -100 to +100: \"))\n",
    "    num2 = int(input(\"Please enter the second integer value between -100 to +100: \"))\n",
    "    if (num1 > 100 or num2 > 100):\n",
    "        raise NameError(\"Above +100\")\n",
    "    elif (num1 < -100 or num2 < -100):\n",
    "        raise NameError(\"Below -100\")\n",
    "    quotient = num1 / num2\n",
    "    print(f\"So {num1} / {num2} = {quotient}...\")\n",
    "except ZeroDivisionError as zde:\n",
    "    print(\"ZeroDivisionError: Division by ZERO is Illegal !!!\")\n",
    "    print(\"ZeroDivisionError: Error type\", type(zde))\n",
    "    print(\"ZeroDivisionError: Error message\", zde)\n",
    "except ValueError as ve:\n",
    "    print(\"ValueError: Invalid INPUT has been provided !!!\")\n",
    "    print(\"ValueError: Error type\", type(ve))\n",
    "    print(\"ValueError: Error message\", ve)\n",
    "except NameError as ne:\n",
    "    print(\"NameError: Input number is out of range...\")\n",
    "    if (str(ne) == \"Above +100\"):\n",
    "        print(\"NameError: Input number is greater than +100...\")\n",
    "    if (str(ne) == \"Below -100\"):\n",
    "        print(\"NameError: Input number is lesser than -100...\")\n",
    "except Exception as ex:\n",
    "    print(\"Exception: Invalid User INPUT has been provided !!!\")\n",
    "    print(\"Exception: Error type\", type(ex))\n",
    "    print(\"Exception: Error message\", ex)\n",
    "else:\n",
    "    print(\"Else: Else block is executing...\")\n",
    "    print(\"Else: Had a smooth execution...\")\n",
    "finally:\n",
    "    print(\"Finally: Finally block is executing...\")\n",
    "    print(\"Finally: Finally block executes always...\")\n",
    "print(\"End of the program...\")"
   ]
  },
  {
   "cell_type": "code",
   "execution_count": 32,
   "id": "a9d93441-3af5-4190-accb-085b2aabaae0",
   "metadata": {},
   "outputs": [
    {
     "name": "stdin",
     "output_type": "stream",
     "text": [
      "Please enter the first integer value between -100 to +100:  100\n",
      "Please enter the second integer value between -100 to +100:  0\n"
     ]
    },
    {
     "name": "stdout",
     "output_type": "stream",
     "text": [
      "ZeroDivisionError: Division by ZERO is Illegal !!!\n",
      "ZeroDivisionError: Error type <class 'ZeroDivisionError'>\n",
      "ZeroDivisionError: Error message division by zero\n",
      "Finally: Finally block is executing...\n",
      "Finally: Finally block executes always...\n"
     ]
    },
    {
     "name": "stdin",
     "output_type": "stream",
     "text": [
      "Please enter the first integer value between -100 to +100:  100\n",
      "Please enter the second integer value between -100 to +100:  two\n"
     ]
    },
    {
     "name": "stdout",
     "output_type": "stream",
     "text": [
      "ValueError: Invalid INPUT has been provided !!!\n",
      "ValueError: Error type <class 'ValueError'>\n",
      "ValueError: Error message invalid literal for int() with base 10: 'two'\n",
      "Finally: Finally block is executing...\n",
      "Finally: Finally block executes always...\n"
     ]
    },
    {
     "name": "stdin",
     "output_type": "stream",
     "text": [
      "Please enter the first integer value between -100 to +100:  900\n",
      "Please enter the second integer value between -100 to +100:  20\n"
     ]
    },
    {
     "name": "stdout",
     "output_type": "stream",
     "text": [
      "NameError: Input number is out of range...\n",
      "NameError: Input number is greater than +100...\n",
      "Finally: Finally block is executing...\n",
      "Finally: Finally block executes always...\n"
     ]
    },
    {
     "name": "stdin",
     "output_type": "stream",
     "text": [
      "Please enter the first integer value between -100 to +100:  -900\n",
      "Please enter the second integer value between -100 to +100:  20\n"
     ]
    },
    {
     "name": "stdout",
     "output_type": "stream",
     "text": [
      "NameError: Input number is out of range...\n",
      "NameError: Input number is lesser than -100...\n",
      "Finally: Finally block is executing...\n",
      "Finally: Finally block executes always...\n"
     ]
    },
    {
     "name": "stdin",
     "output_type": "stream",
     "text": [
      "Please enter the first integer value between -100 to +100:  10\n",
      "Please enter the second integer value between -100 to +100:  40\n"
     ]
    },
    {
     "name": "stdout",
     "output_type": "stream",
     "text": [
      "So 10 / 40 = 0.25...\n",
      "Else: Else block is executing...\n",
      "Else: Had a smooth execution...\n",
      "Finally: Finally block is executing...\n",
      "Finally: Finally block executes always...\n",
      "End of the program...\n"
     ]
    }
   ],
   "source": [
    "while(True):\n",
    "    try:\n",
    "        num1 = int(input(\"Please enter the first integer value between -100 to +100: \"))\n",
    "        num2 = int(input(\"Please enter the second integer value between -100 to +100: \"))\n",
    "        if (num1 > 100 or num2 > 100):\n",
    "            raise NameError(\"Above +100\")\n",
    "        elif (num1 < -100 or num2 < -100):\n",
    "            raise NameError(\"Below -100\")\n",
    "        quotient = num1 / num2\n",
    "        print(f\"So {num1} / {num2} = {quotient}...\")\n",
    "    except ZeroDivisionError as zde:\n",
    "        print(\"ZeroDivisionError: Division by ZERO is Illegal !!!\")\n",
    "        print(\"ZeroDivisionError: Error type\", type(zde))\n",
    "        print(\"ZeroDivisionError: Error message\", zde)\n",
    "    except ValueError as ve:\n",
    "        print(\"ValueError: Invalid INPUT has been provided !!!\")\n",
    "        print(\"ValueError: Error type\", type(ve))\n",
    "        print(\"ValueError: Error message\", ve)\n",
    "    except NameError as ne:\n",
    "        print(\"NameError: Input number is out of range...\")\n",
    "        if (str(ne) == \"Above +100\"):\n",
    "            print(\"NameError: Input number is greater than +100...\")\n",
    "        if (str(ne) == \"Below -100\"):\n",
    "            print(\"NameError: Input number is lesser than -100...\")\n",
    "    except Exception as ex:\n",
    "        print(\"Exception: Invalid User INPUT has been provided !!!\")\n",
    "        print(\"Exception: Error type\", type(ex))\n",
    "        print(\"Exception: Error message\", ex)\n",
    "    else:\n",
    "        print(\"Else: Else block is executing...\")\n",
    "        print(\"Else: Had a smooth execution...\")\n",
    "        break\n",
    "    finally:\n",
    "        print(\"Finally: Finally block is executing...\")\n",
    "        print(\"Finally: Finally block executes always...\")\n",
    "print(\"End of the program...\")"
   ]
  },
  {
   "cell_type": "code",
   "execution_count": null,
   "id": "4c33023f-4839-455b-936b-a805022874df",
   "metadata": {},
   "outputs": [],
   "source": [
    "https://docs.python.org/3.10/library/exceptions.html"
   ]
  }
 ],
 "metadata": {
  "kernelspec": {
   "display_name": "Python 3 (ipykernel)",
   "language": "python",
   "name": "python3"
  },
  "language_info": {
   "codemirror_mode": {
    "name": "ipython",
    "version": 3
   },
   "file_extension": ".py",
   "mimetype": "text/x-python",
   "name": "python",
   "nbconvert_exporter": "python",
   "pygments_lexer": "ipython3",
   "version": "3.11.7"
  }
 },
 "nbformat": 4,
 "nbformat_minor": 5
}
